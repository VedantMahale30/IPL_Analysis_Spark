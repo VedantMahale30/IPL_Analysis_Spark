{
 "cells": [
  {
   "cell_type": "code",
   "execution_count": 1,
   "id": "673432e8-f7e8-477d-92ff-b672e30cc5b3",
   "metadata": {},
   "outputs": [],
   "source": [
    "from pyspark.sql import SparkSession\n",
    "from pyspark.sql.functions import *"
   ]
  },
  {
   "cell_type": "code",
   "execution_count": 2,
   "id": "db5ed5ce-4b2b-4f33-bf13-575bee65e9b8",
   "metadata": {},
   "outputs": [],
   "source": [
    "spark  = SparkSession.builder.appName(\"IPL_WORK\").getOrCreate()"
   ]
  },
  {
   "cell_type": "code",
   "execution_count": 3,
   "id": "f7d2bcba-50ff-46e4-9868-40ef445c106b",
   "metadata": {},
   "outputs": [],
   "source": [
    "venue = spark.read.format(\"csv\").options(header=\"true\",inferSchema=\"true\").load(\"ipl_venue.csv\")\n",
    "matches = spark.read.format(\"csv\").options(header=\"true\",inferSchema=\"true\").load(\"ipl_matches.csv\")\n",
    "ball_by_ball = spark.read.format(\"csv\").options(header=\"true\",inferSchema=\"true\").load(\"ipl_ball_by_ball.csv\")"
   ]
  },
  {
   "cell_type": "code",
   "execution_count": 4,
   "id": "cdb08035-87e7-4ee4-baca-27dd50ad205d",
   "metadata": {},
   "outputs": [
    {
     "data": {
      "text/plain": [
       "193468"
      ]
     },
     "execution_count": 4,
     "metadata": {},
     "output_type": "execute_result"
    }
   ],
   "source": [
    "venue.count()\n",
    "matches.count()\n",
    "ball_by_ball.count()"
   ]
  },
  {
   "cell_type": "code",
   "execution_count": 5,
   "id": "12ff5277-d799-43c1-aca8-f0260c36c896",
   "metadata": {},
   "outputs": [
    {
     "name": "stdout",
     "output_type": "stream",
     "text": [
      "+--------+--------------------+--------------+\n",
      "|venue_id|               venue|          city|\n",
      "+--------+--------------------+--------------+\n",
      "|       1|Dr. Y.S. Rajasekh...| Visakhapatnam|\n",
      "|       2|Sharjah Cricket S...|       Sharjah|\n",
      "|       3|JSCA Internationa...|        Ranchi|\n",
      "|       4|Saurashtra Cricke...|        Rajkot|\n",
      "|       5|Shaheed Veer Nara...|        Raipur|\n",
      "|       6|Maharashtra Crick...|          Pune|\n",
      "|       7|Subrata Roy Sahar...|          Pune|\n",
      "|       8|    St George's Park|Port Elizabeth|\n",
      "|       9|Vidarbha Cricket ...|        Nagpur|\n",
      "|      12|   Brabourne Stadium|        Mumbai|\n",
      "|      13|Dr DY Patil Sport...|        Mumbai|\n",
      "|      14|    Wankhede Stadium|        Mumbai|\n",
      "|      15|        Eden Gardens|       Kolkata|\n",
      "|      16|       Nehru Stadium|         Kochi|\n",
      "|      17|De Beers Diamond ...|     Kimberley|\n",
      "|      18|          Green Park|        Kanpur|\n",
      "|      19|New Wanderers Sta...|  Johannesburg|\n",
      "|      20|Sawai Mansingh St...|        Jaipur|\n",
      "|      21|Holkar Cricket St...|        Indore|\n",
      "|      22|Rajiv Gandhi Inte...|     Hyderabad|\n",
      "+--------+--------------------+--------------+\n",
      "only showing top 20 rows\n",
      "\n"
     ]
    }
   ],
   "source": [
    "venue.show()"
   ]
  },
  {
   "cell_type": "code",
   "execution_count": 6,
   "id": "f1bbc6e4-51af-4807-9b84-c0d2ad54408c",
   "metadata": {
    "scrolled": true
   },
   "outputs": [
    {
     "name": "stdout",
     "output_type": "stream",
     "text": [
      "+--------+----------+----------------+--------+-------------+--------------------+--------------------+--------------------+-------------+--------------------+-------+-------------+----------+------+---------------+---------------+\n",
      "|match_id|      date| player_of_match|venue_id|neutral_venue|               team1|               team2|         toss_winner|toss_decision|              winner| result|result_margin|eliminator|method|        umpire1|        umpire2|\n",
      "+--------+----------+----------------+--------+-------------+--------------------+--------------------+--------------------+-------------+--------------------+-------+-------------+----------+------+---------------+---------------+\n",
      "|  335982|2008-04-18|     BB McCullum|      35|            0|Royal Challengers...|Kolkata Knight Ri...|Royal Challengers...|        field|Kolkata Knight Ri...|   runs|          140|         N|    NA|      Asad Rauf|    RE Koertzen|\n",
      "|  335983|2008-04-19|      MEK Hussey|      31|            0|     Kings XI Punjab| Chennai Super Kings| Chennai Super Kings|          bat| Chennai Super Kings|   runs|           33|         N|    NA|      MR Benson|     SL Shastri|\n",
      "|  335984|2008-04-19|     MF Maharoof|      27|            0|    Delhi Daredevils|    Rajasthan Royals|    Rajasthan Royals|          bat|    Delhi Daredevils|wickets|            9|         N|    NA|      Aleem Dar| GA Pratapkumar|\n",
      "|  335985|2008-04-20|      MV Boucher|      14|            0|      Mumbai Indians|Royal Challengers...|      Mumbai Indians|          bat|Royal Challengers...|wickets|            5|         N|    NA|       SJ Davis|      DJ Harper|\n",
      "|  335986|2008-04-20|       DJ Hussey|      15|            0|Kolkata Knight Ri...|     Deccan Chargers|     Deccan Chargers|          bat|Kolkata Knight Ri...|wickets|            5|         N|    NA|      BF Bowden|    K Hariharan|\n",
      "|  335987|2008-04-21|       SR Watson|      20|            0|    Rajasthan Royals|     Kings XI Punjab|     Kings XI Punjab|          bat|    Rajasthan Royals|wickets|            6|         N|    NA|      Aleem Dar|      RB Tiffin|\n",
      "|  335988|2008-04-22|        V Sehwag|      22|            0|     Deccan Chargers|    Delhi Daredevils|     Deccan Chargers|          bat|    Delhi Daredevils|wickets|            9|         N|    NA|      IL Howell|      AM Saheba|\n",
      "|  335989|2008-04-23|       ML Hayden|      29|            0| Chennai Super Kings|      Mumbai Indians|      Mumbai Indians|        field| Chennai Super Kings|   runs|            6|         N|    NA|      DJ Harper| GA Pratapkumar|\n",
      "|  335990|2008-04-24|       YK Pathan|      22|            0|     Deccan Chargers|    Rajasthan Royals|    Rajasthan Royals|        field|    Rajasthan Royals|wickets|            3|         N|    NA|      Asad Rauf|      MR Benson|\n",
      "|  335991|2008-04-25|   KC Sangakkara|      31|            0|     Kings XI Punjab|      Mumbai Indians|      Mumbai Indians|        field|     Kings XI Punjab|   runs|           66|         N|    NA|      Aleem Dar|      AM Saheba|\n",
      "|  335992|2008-04-26|       SR Watson|      35|            0|Royal Challengers...|    Rajasthan Royals|    Rajasthan Royals|        field|    Rajasthan Royals|wickets|            7|         N|    NA|      MR Benson|      IL Howell|\n",
      "|  335993|2008-04-26|        JDP Oram|      29|            0| Chennai Super Kings|Kolkata Knight Ri...|Kolkata Knight Ri...|          bat| Chennai Super Kings|wickets|            9|         N|    NA|      BF Bowden| AV Jayaprakash|\n",
      "|  335994|2008-04-27|    AC Gilchrist|      13|            0|      Mumbai Indians|     Deccan Chargers|     Deccan Chargers|        field|     Deccan Chargers|wickets|           10|         N|    NA|      Asad Rauf|     SL Shastri|\n",
      "|  335995|2008-04-27|       SM Katich|      31|            0|     Kings XI Punjab|    Delhi Daredevils|    Delhi Daredevils|          bat|     Kings XI Punjab|wickets|            4|         N|    NA|    RE Koertzen|      I Shivram|\n",
      "|  335996|2008-04-28|        MS Dhoni|      35|            0|Royal Challengers...| Chennai Super Kings| Chennai Super Kings|          bat| Chennai Super Kings|   runs|           13|         N|    NA|    BR Doctrove|      RB Tiffin|\n",
      "|  335997|2008-04-29|   ST Jayasuriya|      15|            0|Kolkata Knight Ri...|      Mumbai Indians|Kolkata Knight Ri...|          bat|      Mumbai Indians|wickets|            7|         N|    NA|      BF Bowden| AV Jayaprakash|\n",
      "|  335998|2008-04-30|      GD McGrath|      27|            0|    Delhi Daredevils|Royal Challengers...|Royal Challengers...|        field|    Delhi Daredevils|   runs|           10|         N|    NA|      Aleem Dar|      I Shivram|\n",
      "|  335999|2008-05-01|        SE Marsh|      22|            0|     Deccan Chargers|     Kings XI Punjab|     Kings XI Punjab|        field|     Kings XI Punjab|wickets|            7|         N|    NA|    BR Doctrove|      RB Tiffin|\n",
      "|  336000|2008-05-01|     SA Asnodkar|      20|            0|    Rajasthan Royals|Kolkata Knight Ri...|    Rajasthan Royals|          bat|    Rajasthan Royals|   runs|           45|         N|    NA|    RE Koertzen| GA Pratapkumar|\n",
      "|  336001|2008-05-02|        V Sehwag|      29|            0| Chennai Super Kings|    Delhi Daredevils| Chennai Super Kings|          bat|    Delhi Daredevils|wickets|            8|         N|    NA|      BF Bowden|    K Hariharan|\n",
      "|  336003|2008-05-03|       IK Pathan|      31|            0|     Kings XI Punjab|Kolkata Knight Ri...|     Kings XI Punjab|          bat|     Kings XI Punjab|   runs|            9|         N|    NA|      DJ Harper|      I Shivram|\n",
      "|  336002|2008-05-25|   R Vinay Kumar|      22|            0|     Deccan Chargers|Royal Challengers...|     Deccan Chargers|          bat|Royal Challengers...|wickets|            5|         N|    NA|      Asad Rauf|    RE Koertzen|\n",
      "|  336004|2008-05-04|      SM Pollock|      13|            0|      Mumbai Indians|    Delhi Daredevils|    Delhi Daredevils|        field|      Mumbai Indians|   runs|           29|         N|    NA|      IL Howell|    RE Koertzen|\n",
      "|  336005|2008-05-04|   Sohail Tanvir|      20|            0|    Rajasthan Royals| Chennai Super Kings| Chennai Super Kings|          bat|    Rajasthan Royals|wickets|            8|         N|    NA|      Asad Rauf| AV Jayaprakash|\n",
      "|  336006|2008-05-05|     S Sreesanth|      35|            0|Royal Challengers...|     Kings XI Punjab|     Kings XI Punjab|        field|     Kings XI Punjab|wickets|            6|         N|    NA|       SJ Davis|    BR Doctrove|\n",
      "|  336007|2008-05-06|    AC Gilchrist|      29|            0| Chennai Super Kings|     Deccan Chargers|     Deccan Chargers|        field|     Deccan Chargers|wickets|            7|         N|    NA|      MR Benson|      RB Tiffin|\n",
      "|  336008|2008-05-07|         A Nehra|      13|            0|      Mumbai Indians|    Rajasthan Royals|      Mumbai Indians|        field|      Mumbai Indians|wickets|            7|         N|    NA|      DJ Harper|    RE Koertzen|\n",
      "|  336009|2008-05-08|        MS Dhoni|      27|            0|    Delhi Daredevils| Chennai Super Kings| Chennai Super Kings|        field| Chennai Super Kings|wickets|            4|         N|    NA|      Aleem Dar|      RB Tiffin|\n",
      "|  336010|2008-05-08|      SC Ganguly|      15|            0|Kolkata Knight Ri...|Royal Challengers...|Kolkata Knight Ri...|          bat|Kolkata Knight Ri...|   runs|            5|         N|    NA|      Asad Rauf|      IL Howell|\n",
      "|  336011|2008-05-09|       YK Pathan|      20|            0|    Rajasthan Royals|     Deccan Chargers|    Rajasthan Royals|        field|    Rajasthan Royals|wickets|            8|         N|    NA|      MR Benson|      AM Saheba|\n",
      "|  336012|2008-05-28|    CRD Fernando|      35|            0|Royal Challengers...|      Mumbai Indians|      Mumbai Indians|        field|      Mumbai Indians|wickets|            9|         N|    NA|      BF Bowden| AV Jayaprakash|\n",
      "|  336013|2008-05-10|        L Balaji|      29|            0| Chennai Super Kings|     Kings XI Punjab|     Kings XI Punjab|        field| Chennai Super Kings|   runs|           18|         N|    NA| AV Jayaprakash|     BG Jerling|\n",
      "|  336014|2008-05-11|      SC Ganguly|      22|            0|     Deccan Chargers|Kolkata Knight Ri...|Kolkata Knight Ri...|          bat|Kolkata Knight Ri...|   runs|           23|         N|    NA|      IL Howell|      AM Saheba|\n",
      "|  336015|2008-05-11|       SR Watson|      20|            0|    Rajasthan Royals|    Delhi Daredevils|    Rajasthan Royals|        field|    Rajasthan Royals|wickets|            3|         N|    NA|       SJ Davis|    RE Koertzen|\n",
      "|  336016|2008-05-12|        SE Marsh|      31|            0|     Kings XI Punjab|Royal Challengers...|Royal Challengers...|          bat|     Kings XI Punjab|wickets|            9|         N|    NA|    BR Doctrove|      I Shivram|\n",
      "|  336017|2008-05-13|   Shoaib Akhtar|      15|            0|Kolkata Knight Ri...|    Delhi Daredevils|Kolkata Knight Ri...|          bat|Kolkata Knight Ri...|   runs|           23|         N|    NA|      Asad Rauf|      IL Howell|\n",
      "|  336018|2008-05-14|   ST Jayasuriya|      14|            0|      Mumbai Indians| Chennai Super Kings|      Mumbai Indians|        field|      Mumbai Indians|wickets|            9|         N|    NA|    BR Doctrove|      AM Saheba|\n",
      "|  336019|2008-05-28|        SE Marsh|      31|            0|     Kings XI Punjab|    Rajasthan Royals|    Rajasthan Royals|        field|     Kings XI Punjab|   runs|           41|         N|    NA|       SJ Davis|    K Hariharan|\n",
      "|  336020|2008-05-15|        A Mishra|      27|            0|    Delhi Daredevils|     Deccan Chargers|     Deccan Chargers|        field|    Delhi Daredevils|   runs|           12|         N|    NA|     BG Jerling| GA Pratapkumar|\n",
      "|  336021|2008-05-16|      SM Pollock|      14|            0|      Mumbai Indians|Kolkata Knight Ri...|      Mumbai Indians|        field|      Mumbai Indians|wickets|            8|         N|    NA|    BR Doctrove|      DJ Harper|\n",
      "|  336022|2008-05-17|DPMD Jayawardene|      27|            0|    Delhi Daredevils|     Kings XI Punjab|    Delhi Daredevils|          bat|     Kings XI Punjab|   runs|            6|         N|   D/L| AV Jayaprakash|    RE Koertzen|\n",
      "|  336023|2008-05-17|        GC Smith|      20|            0|    Rajasthan Royals|Royal Challengers...|Royal Challengers...|        field|    Rajasthan Royals|   runs|           65|         N|    NA|      BF Bowden|     SL Shastri|\n",
      "|  336024|2008-05-18|        DJ Bravo|      22|            0|     Deccan Chargers|      Mumbai Indians|     Deccan Chargers|        field|      Mumbai Indians|   runs|           25|         N|    NA|    BR Doctrove|      DJ Harper|\n",
      "|  336025|2008-05-18|         M Ntini|      15|            0|Kolkata Knight Ri...| Chennai Super Kings|Kolkata Knight Ri...|          bat| Chennai Super Kings|   runs|            3|         N|   D/L|      Asad Rauf|    K Hariharan|\n",
      "|  336026|2008-05-19|      SP Goswami|      35|            0|Royal Challengers...|    Delhi Daredevils|    Delhi Daredevils|        field|    Delhi Daredevils|wickets|            5|         N|    NA|       SJ Davis| GA Pratapkumar|\n",
      "|  336027|2008-05-20|       YK Pathan|      15|            0|Kolkata Knight Ri...|    Rajasthan Royals|    Rajasthan Royals|        field|    Rajasthan Royals|wickets|            6|         N|    NA|     BG Jerling|    RE Koertzen|\n",
      "|  336028|2008-05-21|        SE Marsh|      14|            0|      Mumbai Indians|     Kings XI Punjab|      Mumbai Indians|        field|     Kings XI Punjab|   runs|            1|         N|    NA|      BF Bowden| GA Pratapkumar|\n",
      "|  336029|2008-05-21|        A Kumble|      29|            0| Chennai Super Kings|Royal Challengers...|Royal Challengers...|          bat|Royal Challengers...|   runs|           14|         N|    NA|      DJ Harper|      I Shivram|\n",
      "|  336031|2008-05-23|        SE Marsh|      31|            0|     Kings XI Punjab|     Deccan Chargers|     Kings XI Punjab|        field|     Kings XI Punjab|wickets|            6|         N|    NA|      Asad Rauf|       SJ Davis|\n",
      "|  336032|2008-05-24|      KD Karthik|      27|            0|    Delhi Daredevils|      Mumbai Indians|    Delhi Daredevils|        field|    Delhi Daredevils|wickets|            5|         N|    NA|      BF Bowden|    K Hariharan|\n",
      "|  336033|2008-05-24|       JA Morkel|      29|            0| Chennai Super Kings|    Rajasthan Royals|    Rajasthan Royals|          bat|    Rajasthan Royals|   runs|           10|         N|    NA|      DJ Harper|     SL Shastri|\n",
      "|  336034|2008-05-03|         P Kumar|      35|            0|Royal Challengers...|     Deccan Chargers|     Deccan Chargers|        field|Royal Challengers...|   runs|            3|         N|    NA|    BR Doctrove|     SL Shastri|\n",
      "|  336035|2008-05-25|        Umar Gul|      15|            0|Kolkata Knight Ri...|     Kings XI Punjab|     Kings XI Punjab|          bat|Kolkata Knight Ri...|wickets|            3|         N|    NA|       SJ Davis|      I Shivram|\n",
      "|  336036|2008-05-26|   Sohail Tanvir|      20|            0|    Rajasthan Royals|      Mumbai Indians|    Rajasthan Royals|        field|    Rajasthan Royals|wickets|            5|         N|    NA|      BF Bowden|    K Hariharan|\n",
      "|  336037|2008-05-27|        SK Raina|      22|            0|     Deccan Chargers| Chennai Super Kings|     Deccan Chargers|          bat| Chennai Super Kings|wickets|            7|         N|    NA|     BG Jerling|      AM Saheba|\n",
      "|  336038|2008-05-30|       SR Watson|      14|            0|    Delhi Daredevils|    Rajasthan Royals|    Delhi Daredevils|        field|    Rajasthan Royals|   runs|          105|         N|    NA|      BF Bowden|    RE Koertzen|\n",
      "|  336039|2008-05-31|         M Ntini|      14|            0| Chennai Super Kings|     Kings XI Punjab|     Kings XI Punjab|          bat| Chennai Super Kings|wickets|            9|         N|    NA|      Asad Rauf|      DJ Harper|\n",
      "|  336040|2008-06-01|       YK Pathan|      13|            0| Chennai Super Kings|    Rajasthan Royals|    Rajasthan Royals|        field|    Rajasthan Royals|wickets|            3|         N|    NA|      BF Bowden|    RE Koertzen|\n",
      "|  392181|2009-04-18|    SR Tendulkar|      33|            1| Chennai Super Kings|      Mumbai Indians| Chennai Super Kings|        field|      Mumbai Indians|   runs|           19|         N|    NA|    BR Doctrove|    K Hariharan|\n",
      "|  392182|2009-04-18|        R Dravid|      33|            1|Royal Challengers...|    Rajasthan Royals|Royal Challengers...|          bat|Royal Challengers...|   runs|           75|         N|    NA|    BR Doctrove|      RB Tiffin|\n",
      "|  392183|2009-04-19|      DL Vettori|      33|            1|    Delhi Daredevils|     Kings XI Punjab|    Delhi Daredevils|        field|    Delhi Daredevils|wickets|           10|         N|   D/L|      MR Benson|      SD Ranade|\n",
      "|  392184|2009-04-19|        RP Singh|      33|            1|     Deccan Chargers|Kolkata Knight Ri...|Kolkata Knight Ri...|          bat|     Deccan Chargers|wickets|            8|         N|    NA|      MR Benson|    BR Doctrove|\n",
      "|  392185|2009-04-20|  M Muralitharan|       8|            1|Royal Challengers...| Chennai Super Kings| Chennai Super Kings|          bat| Chennai Super Kings|   runs|           92|         N|    NA|     BG Jerling|     SJA Taufel|\n",
      "|  392186|2009-04-21|        CH Gayle|      24|            1|     Kings XI Punjab|Kolkata Knight Ri...|Kolkata Knight Ri...|        field|Kolkata Knight Ri...|   runs|           11|         N|   D/L|      DJ Harper|      SD Ranade|\n",
      "|  392188|2009-04-22|    AC Gilchrist|      33|            1|Royal Challengers...|     Deccan Chargers|     Deccan Chargers|          bat|     Deccan Chargers|   runs|           24|         N|    NA|      M Erasmus|      AM Saheba|\n",
      "|  392189|2009-04-23|  AB de Villiers|      24|            1| Chennai Super Kings|    Delhi Daredevils|    Delhi Daredevils|          bat|    Delhi Daredevils|   runs|            9|         N|    NA|    BR Doctrove|     SJA Taufel|\n",
      "|  392190|2009-04-23|       YK Pathan|      33|            1|Kolkata Knight Ri...|    Rajasthan Royals|Kolkata Knight Ri...|        field|    Rajasthan Royals|    tie|           NA|         Y|    NA|      MR Benson|      M Erasmus|\n",
      "|  392191|2009-04-24|       RS Bopara|      24|            1|Royal Challengers...|     Kings XI Punjab|Royal Challengers...|          bat|     Kings XI Punjab|wickets|            7|         N|    NA|    BR Doctrove| TH Wijewardene|\n",
      "|  392192|2009-04-25|         PP Ojha|      24|            1|     Deccan Chargers|      Mumbai Indians|     Deccan Chargers|          bat|     Deccan Chargers|   runs|           12|         N|    NA|HDPK Dharmasena|     SJA Taufel|\n",
      "|  392194|2009-04-26|      TM Dilshan|       8|            1|Royal Challengers...|    Delhi Daredevils|Royal Challengers...|          bat|    Delhi Daredevils|wickets|            6|         N|    NA|       S Asnani|     BG Jerling|\n",
      "|  392195|2009-04-26|   KC Sangakkara|      33|            1|     Kings XI Punjab|    Rajasthan Royals|     Kings XI Punjab|          bat|     Kings XI Punjab|   runs|           27|         N|    NA|      M Erasmus|    K Hariharan|\n",
      "|  392196|2009-04-27|        HH Gibbs|      24|            1| Chennai Super Kings|     Deccan Chargers|     Deccan Chargers|        field|     Deccan Chargers|wickets|            6|         N|    NA|      IL Howell| TH Wijewardene|\n",
      "|  392197|2009-04-27|    SR Tendulkar|       8|            1|Kolkata Knight Ri...|      Mumbai Indians|      Mumbai Indians|          bat|      Mumbai Indians|   runs|           92|         N|    NA|     BG Jerling|      RB Tiffin|\n",
      "|  392198|2009-04-28|       YK Pathan|      32|            1|    Delhi Daredevils|    Rajasthan Royals|    Delhi Daredevils|          bat|    Rajasthan Royals|wickets|            5|         N|    NA|     GAV Baxter|    RE Koertzen|\n",
      "|  392199|2009-04-29|      MV Boucher|      24|            1|Royal Challengers...|Kolkata Knight Ri...|Kolkata Knight Ri...|          bat|Royal Challengers...|wickets|            5|         N|    NA|      MR Benson| TH Wijewardene|\n",
      "|  392200|2009-04-29|   KC Sangakkara|      24|            1|     Kings XI Punjab|      Mumbai Indians|     Kings XI Punjab|          bat|     Kings XI Punjab|   runs|            3|         N|    NA|      MR Benson|     SL Shastri|\n",
      "|  392201|2009-04-30|       DP Nannes|      32|            1|     Deccan Chargers|    Delhi Daredevils|    Delhi Daredevils|        field|    Delhi Daredevils|wickets|            6|         N|    NA|     GAV Baxter|      AM Saheba|\n",
      "|  392202|2009-04-30|        SK Raina|      32|            1| Chennai Super Kings|    Rajasthan Royals|    Rajasthan Royals|        field| Chennai Super Kings|   runs|           38|         N|    NA|     GAV Baxter|    RE Koertzen|\n",
      "|  392203|2009-05-01|       JP Duminy|      23|            1|Kolkata Knight Ri...|      Mumbai Indians|      Mumbai Indians|          bat|      Mumbai Indians|   runs|            9|         N|    NA|      M Erasmus|    SK Tarapore|\n",
      "|  392204|2009-05-01|    Yuvraj Singh|      24|            1|Royal Challengers...|     Kings XI Punjab|Royal Challengers...|          bat|Royal Challengers...|   runs|            8|         N|    NA|HDPK Dharmasena|         S Ravi|\n",
      "|  392205|2009-05-02|       YK Pathan|       8|            1|     Deccan Chargers|    Rajasthan Royals|     Deccan Chargers|          bat|    Rajasthan Royals|wickets|            3|         N|    NA|       S Asnani|     BG Jerling|\n",
      "|  392206|2009-05-02|       SB Jakati|      19|            1| Chennai Super Kings|    Delhi Daredevils|    Delhi Daredevils|        field| Chennai Super Kings|   runs|           18|         N|    NA|      DJ Harper|    RE Koertzen|\n",
      "|  392207|2009-05-03|DPMD Jayawardene|       8|            1|     Kings XI Punjab|Kolkata Knight Ri...|Kolkata Knight Ri...|          bat|     Kings XI Punjab|wickets|            6|         N|    NA|       S Asnani|      MR Benson|\n",
      "|  392209|2009-05-04|        MS Dhoni|      23|            1| Chennai Super Kings|     Deccan Chargers| Chennai Super Kings|          bat| Chennai Super Kings|   runs|           78|         N|    NA|    BR Doctrove|      M Erasmus|\n",
      "|  392210|2009-05-05|        GC Smith|      24|            1|     Kings XI Punjab|    Rajasthan Royals|     Kings XI Punjab|        field|    Rajasthan Royals|   runs|           78|         N|    NA|      SS Hazare|      IL Howell|\n",
      "|  392208|2009-05-03|       JH Kallis|      19|            1|Royal Challengers...|      Mumbai Indians|      Mumbai Indians|          bat|Royal Challengers...|wickets|            9|         N|    NA|    RE Koertzen| TH Wijewardene|\n",
      "|  392211|2009-05-05|       G Gambhir|      24|            1|    Delhi Daredevils|Kolkata Knight Ri...|Kolkata Knight Ri...|          bat|    Delhi Daredevils|wickets|            9|         N|    NA|     GAV Baxter|      IL Howell|\n",
      "|  392212|2009-05-06|       RG Sharma|      32|            1|     Deccan Chargers|      Mumbai Indians|     Deccan Chargers|          bat|     Deccan Chargers|   runs|           19|         N|    NA|      MR Benson|HDPK Dharmasena|\n",
      "|  392213|2009-05-07|         A Singh|      32|            1|Royal Challengers...|    Rajasthan Royals|    Rajasthan Royals|        field|    Rajasthan Royals|wickets|            7|         N|    NA|    K Hariharan|      DJ Harper|\n",
      "|  392214|2009-05-07|       ML Hayden|      32|            1| Chennai Super Kings|     Kings XI Punjab| Chennai Super Kings|          bat| Chennai Super Kings|   runs|           12|         N|   D/L|      DJ Harper| TH Wijewardene|\n",
      "|  392215|2009-05-08|         A Nehra|      23|            1|    Delhi Daredevils|      Mumbai Indians|      Mumbai Indians|          bat|    Delhi Daredevils|wickets|            7|         N|    NA|      M Erasmus|    SK Tarapore|\n",
      "|  392216|2009-05-09|DPMD Jayawardene|      17|            1|     Deccan Chargers|     Kings XI Punjab|     Kings XI Punjab|        field|     Kings XI Punjab|wickets|            3|         N|    NA|     GAV Baxter|      AM Saheba|\n",
      "|  392217|2009-05-09|     S Badrinath|      17|            1| Chennai Super Kings|    Rajasthan Royals|    Rajasthan Royals|          bat| Chennai Super Kings|wickets|            7|         N|    NA|     GAV Baxter|HDPK Dharmasena|\n",
      "|  392218|2009-05-10|       JP Duminy|       8|            1|Royal Challengers...|      Mumbai Indians|      Mumbai Indians|          bat|      Mumbai Indians|   runs|           16|         N|    NA|    BR Doctrove|     BG Jerling|\n",
      "|  392219|2009-05-10|        A Mishra|      19|            1|    Delhi Daredevils|Kolkata Knight Ri...|    Delhi Daredevils|        field|    Delhi Daredevils|wickets|            7|         N|    NA|     SL Shastri|      RB Tiffin|\n",
      "|  392220|2009-05-11|        DR Smith|      17|            1|     Deccan Chargers|    Rajasthan Royals|     Deccan Chargers|          bat|     Deccan Chargers|   runs|           53|         N|    NA|     GAV Baxter|HDPK Dharmasena|\n",
      "|  392221|2009-05-12|     LRPL Taylor|      32|            1|Royal Challengers...|Kolkata Knight Ri...|Royal Challengers...|        field|Royal Challengers...|wickets|            6|         N|    NA|      M Erasmus|      SS Hazare|\n",
      "|  392222|2009-05-12| Harbhajan Singh|      32|            1|     Kings XI Punjab|      Mumbai Indians|     Kings XI Punjab|          bat|      Mumbai Indians|wickets|            8|         N|    NA|      SS Hazare|    RE Koertzen|\n",
      "|  392223|2009-05-13|        R Bhatia|      24|            1|     Deccan Chargers|    Delhi Daredevils|     Deccan Chargers|        field|    Delhi Daredevils|   runs|           12|         N|    NA|      DJ Harper|     SL Shastri|\n",
      "|  392224|2009-05-14|     LRPL Taylor|      24|            1|Royal Challengers...| Chennai Super Kings| Chennai Super Kings|          bat|Royal Challengers...|wickets|            2|         N|    NA|    BR Doctrove|      DJ Harper|\n",
      "+--------+----------+----------------+--------+-------------+--------------------+--------------------+--------------------+-------------+--------------------+-------+-------------+----------+------+---------------+---------------+\n",
      "only showing top 100 rows\n",
      "\n"
     ]
    }
   ],
   "source": [
    "matches.show(100)"
   ]
  },
  {
   "cell_type": "code",
   "execution_count": 7,
   "id": "15b23502-8204-4cb7-a77a-b6ec274c7bdb",
   "metadata": {},
   "outputs": [
    {
     "name": "stdout",
     "output_type": "stream",
     "text": [
      "+--------+------+-----+----+-------------+-------------+------------+------------+----------+----------+------------+---------+--------------+----------------+-------+-----------+--------------------+--------------------+\n",
      "|match_id|inning|overs|ball|      batsman|  non_striker|      bowler|batsman_runs|extra_runs|total_runs|non_boundary|is_wicket|dismissal_kind|player_dismissed|fielder|extras_type|        batting_team|        bowling_team|\n",
      "+--------+------+-----+----+-------------+-------------+------------+------------+----------+----------+------------+---------+--------------+----------------+-------+-----------+--------------------+--------------------+\n",
      "|  419157|     2|   16|   4|      V Kohli|R Vinay Kumar|CRD Fernando|           0|         0|         0|           0|        0|            NA|              NA|     NA|         NA|Royal Challengers...|      Mumbai Indians|\n",
      "|  419157|     2|   16|   5|      V Kohli|R Vinay Kumar|CRD Fernando|           1|         0|         1|           0|        0|            NA|              NA|     NA|         NA|Royal Challengers...|      Mumbai Indians|\n",
      "|  419157|     2|   16|   6|R Vinay Kumar|      V Kohli|CRD Fernando|           1|         0|         1|           0|        0|            NA|              NA|     NA|         NA|Royal Challengers...|      Mumbai Indians|\n",
      "|  419157|     2|   17|   1|R Vinay Kumar|      V Kohli|   R McLaren|           1|         0|         1|           0|        0|            NA|              NA|     NA|         NA|Royal Challengers...|      Mumbai Indians|\n",
      "|  419157|     2|   17|   2|      V Kohli|R Vinay Kumar|   R McLaren|           1|         0|         1|           0|        0|            NA|              NA|     NA|         NA|Royal Challengers...|      Mumbai Indians|\n",
      "|  419157|     2|   17|   3|R Vinay Kumar|      V Kohli|   R McLaren|           0|         0|         0|           0|        0|            NA|              NA|     NA|         NA|Royal Challengers...|      Mumbai Indians|\n",
      "|  419157|     2|   17|   4|R Vinay Kumar|      V Kohli|   R McLaren|           0|         0|         0|           0|        0|            NA|              NA|     NA|         NA|Royal Challengers...|      Mumbai Indians|\n",
      "|  419157|     2|   17|   5|R Vinay Kumar|      V Kohli|   R McLaren|           1|         0|         1|           0|        0|            NA|              NA|     NA|         NA|Royal Challengers...|      Mumbai Indians|\n",
      "|  419157|     2|   17|   6|      V Kohli|R Vinay Kumar|   R McLaren|           1|         0|         1|           0|        0|            NA|              NA|     NA|         NA|Royal Challengers...|      Mumbai Indians|\n",
      "|  419157|     2|   18|   1|      V Kohli|R Vinay Kumar|  KA Pollard|           4|         0|         4|           0|        0|            NA|              NA|     NA|         NA|Royal Challengers...|      Mumbai Indians|\n",
      "|  419157|     2|   18|   2|      V Kohli|R Vinay Kumar|  KA Pollard|           0|         0|         0|           0|        1|        caught|         V Kohli|AP Tare|         NA|Royal Challengers...|      Mumbai Indians|\n",
      "|  419157|     2|   18|   3|R Vinay Kumar| Pankaj Singh|  KA Pollard|           0|         1|         1|           0|        0|            NA|              NA|     NA|      wides|Royal Challengers...|      Mumbai Indians|\n",
      "|  419157|     2|   18|   4|R Vinay Kumar| Pankaj Singh|  KA Pollard|           1|         0|         1|           0|        0|            NA|              NA|     NA|         NA|Royal Challengers...|      Mumbai Indians|\n",
      "|  419157|     2|   18|   5| Pankaj Singh|R Vinay Kumar|  KA Pollard|           1|         0|         1|           0|        0|            NA|              NA|     NA|         NA|Royal Challengers...|      Mumbai Indians|\n",
      "|  419157|     2|   18|   6|R Vinay Kumar| Pankaj Singh|  KA Pollard|           1|         0|         1|           0|        0|            NA|              NA|     NA|         NA|Royal Challengers...|      Mumbai Indians|\n",
      "|  419157|     2|   18|   7| Pankaj Singh|R Vinay Kumar|  KA Pollard|           0|         0|         0|           0|        1|        caught|    Pankaj Singh| Z Khan|         NA|Royal Challengers...|      Mumbai Indians|\n",
      "|  419157|     2|   19|   1|     A Kumble|R Vinay Kumar|   R McLaren|           0|         0|         0|           0|        0|            NA|              NA|     NA|         NA|Royal Challengers...|      Mumbai Indians|\n",
      "|  419157|     1|    0|   1|    R McLaren| SR Tendulkar|    DW Steyn|           1|         0|         1|           0|        0|            NA|              NA|     NA|         NA|      Mumbai Indians|Royal Challengers...|\n",
      "|  419157|     1|    0|   2| SR Tendulkar|    R McLaren|    DW Steyn|           0|         0|         0|           0|        0|            NA|              NA|     NA|         NA|      Mumbai Indians|Royal Challengers...|\n",
      "|  419157|     1|    0|   3| SR Tendulkar|    R McLaren|    DW Steyn|           1|         0|         1|           0|        0|            NA|              NA|     NA|         NA|      Mumbai Indians|Royal Challengers...|\n",
      "+--------+------+-----+----+-------------+-------------+------------+------------+----------+----------+------------+---------+--------------+----------------+-------+-----------+--------------------+--------------------+\n",
      "only showing top 20 rows\n",
      "\n"
     ]
    }
   ],
   "source": [
    "ball_by_ball.show()"
   ]
  },
  {
   "cell_type": "code",
   "execution_count": 8,
   "id": "481933bd-9d6a-4825-999d-caf428280f84",
   "metadata": {},
   "outputs": [
    {
     "name": "stdout",
     "output_type": "stream",
     "text": [
      "['venue_id', 'venue', 'city']\n",
      "['match_id', 'date', 'player_of_match', 'venue_id', 'neutral_venue', 'team1', 'team2', 'toss_winner', 'toss_decision', 'winner', 'result', 'result_margin', 'eliminator', 'method', 'umpire1', 'umpire2']\n"
     ]
    }
   ],
   "source": [
    "# Find the top 3 venues which hosted the most number of eliminator matches?\n",
    "print(venue.columns)\n",
    "print(matches.columns)\n"
   ]
  },
  {
   "cell_type": "code",
   "execution_count": 9,
   "id": "ff2da35c-f2d8-4bd8-9c3f-046f2cb42f3f",
   "metadata": {},
   "outputs": [
    {
     "name": "stdout",
     "output_type": "stream",
     "text": [
      "+-----------------------------------+-----------------+\n",
      "|venue                              |count(eliminator)|\n",
      "+-----------------------------------+-----------------+\n",
      "|Dubai International Cricket Stadium|3                |\n",
      "|Sheikh Zayed Stadium               |2                |\n",
      "|Sardar Patel Stadium, Motera       |1                |\n",
      "+-----------------------------------+-----------------+\n",
      "\n"
     ]
    }
   ],
   "source": [
    "top3 = venue.join(matches,\"venue_id\",\"inner\")\n",
    "top3.filter(col(\"eliminator\")==\"Y\").groupBy(\"venue\").agg(count(\"eliminator\")).orderBy(col(\"count(eliminator)\").desc()).limit(3).show(3,False)"
   ]
  },
  {
   "cell_type": "code",
   "execution_count": 10,
   "id": "371a3ba3-d6bf-4250-8362-61541a14647b",
   "metadata": {},
   "outputs": [
    {
     "name": "stdout",
     "output_type": "stream",
     "text": [
      "+--------------------+\n",
      "|      dismissal_kind|\n",
      "+--------------------+\n",
      "|             stumped|\n",
      "|          hit wicket|\n",
      "|                  NA|\n",
      "|              bowled|\n",
      "|                 lbw|\n",
      "|   caught and bowled|\n",
      "|        retired hurt|\n",
      "|              caught|\n",
      "|             run out|\n",
      "|obstructing the f...|\n",
      "+--------------------+\n",
      "\n",
      "+----------+--------------+--------------------+\n",
      "|   fielder|dismissal_kind|Total_dismissal_kind|\n",
      "+----------+--------------+--------------------+\n",
      "|KD Karthik|        caught|                 118|\n",
      "+----------+--------------+--------------------+\n",
      "\n"
     ]
    }
   ],
   "source": [
    "#Return most number of catches taken by a player in IPL history?\n",
    "ball_by_ball.select(\"dismissal_kind\").distinct().show()\n",
    "\n",
    "df = ball_by_ball.groupBy(\"fielder\",\"dismissal_kind\").agg(count(\"dismissal_kind\").alias(\"Total_dismissal_kind\"))\n",
    "df.filter(col(\"dismissal_kind\")==\"caught\").orderBy(col(\"Total_dismissal_kind\").desc()).limit(1).show()\n"
   ]
  },
  {
   "cell_type": "code",
   "execution_count": 11,
   "id": "cc1f64bf-e4c1-4ba6-8503-e9dadb363e6a",
   "metadata": {},
   "outputs": [
    {
     "name": "stdout",
     "output_type": "stream",
     "text": [
      "+--------+-------------------+\n",
      "|  bowler|Total_Wicket_in_D/L|\n",
      "+--------+-------------------+\n",
      "|AB Dinda|                  8|\n",
      "+--------+-------------------+\n",
      "\n"
     ]
    }
   ],
   "source": [
    "#Write a query to return a report for highest wicket taker in matches which were affected by Duckworth-Lewis’s method (D/L method).\n",
    "\n",
    "high = matches.join(ball_by_ball,\"match_id\",\"inner\").filter(col(\"method\")==\"D/L\")\n",
    "high.groupBy(\"bowler\").agg(sum(\"is_wicket\").alias(\"Total_Wicket_in_D/L\")).orderBy(col(\"Total_Wicket_in_D/L\").desc()).limit(1).show()\n"
   ]
  },
  {
   "cell_type": "code",
   "execution_count": 12,
   "id": "3f4c38bc-9ca7-4a55-b6ae-d5ac73070ed8",
   "metadata": {},
   "outputs": [
    {
     "name": "stdout",
     "output_type": "stream",
     "text": [
      "+----------+----------------+------------------+-----------+\n",
      "|   batsman|Total_runs_score|Total_balls_played|Strike_rate|\n",
      "+----------+----------------+------------------+-----------+\n",
      "|B Stanlake|               5|                 2|      250.0|\n",
      "+----------+----------------+------------------+-----------+\n",
      "\n"
     ]
    }
   ],
   "source": [
    "# Write a query to return a report for highest strike rate by a batsman in non powerplay overs(7-20 overs)\n",
    "highest_runrate = ball_by_ball.filter((col(\"overs\")>7) & (col(\"overs\")<20))\\\n",
    "                            .groupBy(\"batsman\").agg(sum(\"batsman_runs\").alias(\"Total_runs_score\"),count(\"ball\").alias(\"Total_balls_played\"))\\\n",
    "                            .withColumn(\"Strike_rate\",round(col(\"Total_runs_score\")/col(\"Total_balls_played\")*100,2))\\\n",
    "                            .orderBy(col(\"Strike_rate\").desc()).limit(1)\n",
    "\n",
    "\n",
    "highest_runrate.show()\n",
    "\n",
    "#Strike Rate = (Runs Scored / Balls Faced) x 100 "
   ]
  },
  {
   "cell_type": "code",
   "execution_count": 13,
   "id": "f7e57310-c895-4576-a992-642bddb81297",
   "metadata": {},
   "outputs": [
    {
     "name": "stdout",
     "output_type": "stream",
     "text": [
      "+--------+---------------------+----------------+\n",
      "|venue_id|venue                |Total_Extra_Runs|\n",
      "+--------+---------------------+----------------+\n",
      "|35      |M.Chinnaswamy Stadium|1355            |\n",
      "+--------+---------------------+----------------+\n",
      "\n"
     ]
    }
   ],
   "source": [
    "#Write a query to return a report for highest extra runs in a venue (stadium, city).\n",
    "\n",
    "high = venue.join(matches,\"venue_id\",\"inner\").join(ball_by_ball,\"match_id\",\"inner\")\n",
    "\n",
    "high.groupBy(\"venue_id\",\"venue\").agg(sum(\"extra_runs\").alias(\"Total_Extra_Runs\")).orderBy(col(\"Total_Extra_Runs\").desc()).limit(1).show(truncate=False)"
   ]
  },
  {
   "cell_type": "code",
   "execution_count": 14,
   "id": "bff5421c-5a6c-4bce-8cab-689ab6362de2",
   "metadata": {},
   "outputs": [
    {
     "name": "stdout",
     "output_type": "stream",
     "text": [
      "+----------------+-------------+----------------+\n",
      "| player_of_match|neutral_venue|Total_Number_POM|\n",
      "+----------------+-------------+----------------+\n",
      "|       JH Kallis|            1|               3|\n",
      "|       JP Duminy|            1|               3|\n",
      "|       YK Pathan|            1|               3|\n",
      "|      GJ Maxwell|            1|               3|\n",
      "|  M Muralitharan|            1|               2|\n",
      "|   KC Sangakkara|            1|               2|\n",
      "|     LRPL Taylor|            1|               2|\n",
      "|    Yuvraj Singh|            1|               2|\n",
      "|  Sandeep Sharma|            1|               2|\n",
      "|    SR Tendulkar|            1|               2|\n",
      "|        SK Raina|            1|               2|\n",
      "|       RG Sharma|            1|               2|\n",
      "|    AC Gilchrist|            1|               2|\n",
      "|DPMD Jayawardene|            1|               2|\n",
      "|  AB de Villiers|            1|               2|\n",
      "|       ML Hayden|            1|               2|\n",
      "|        DR Smith|            1|               2|\n",
      "|       MK Pandey|            1|               2|\n",
      "|         M Vijay|            1|               1|\n",
      "|      TM Dilshan|            1|               1|\n",
      "+----------------+-------------+----------------+\n",
      "only showing top 20 rows\n",
      "\n"
     ]
    }
   ],
   "source": [
    "#Write a query to return a report for the cricketers with the most number of players of the match award in neutral venues.\n",
    "matches.filter(col(\"neutral_venue\")==\"1\").groupBy(\"player_of_match\",\"neutral_venue\").agg(count(\"match_id\").alias(\"Total_Number_POM\"))\\\n",
    "                                                                                         .orderBy(col(\"Total_Number_POM\").desc()).show()\n"
   ]
  },
  {
   "cell_type": "code",
   "execution_count": 15,
   "id": "d5652fbf-0cee-49ed-8a08-14fdd1775fea",
   "metadata": {},
   "outputs": [
    {
     "name": "stdout",
     "output_type": "stream",
     "text": [
      "+---------------+-------------+\n",
      "|        umpire1|Total_Matches|\n",
      "+---------------+-------------+\n",
      "|HDPK Dharmasena|           78|\n",
      "+---------------+-------------+\n",
      "\n",
      "+-------+-------------+\n",
      "|umpire2|Total_Matches|\n",
      "+-------+-------------+\n",
      "| S Ravi|           84|\n",
      "+-------+-------------+\n",
      "\n",
      "+-------+---------+-------------+\n",
      "|umpire1|  umpire2|Total_Matches|\n",
      "+-------+---------+-------------+\n",
      "| S Ravi|RJ Tucker|           12|\n",
      "+-------+---------+-------------+\n",
      "\n"
     ]
    }
   ],
   "source": [
    "#Write a query to find out who has officiated (as an umpire) the most number of matches in IPL.\n",
    "\n",
    "matches.groupBy(\"umpire1\").agg(count(\"match_id\").alias(\"Total_Matches\")).orderBy(col(\"Total_Matches\").desc()).limit(1).show()\n",
    "matches.groupBy(\"umpire2\").agg(count(\"match_id\").alias(\"Total_Matches\")).orderBy(col(\"Total_Matches\").desc()).limit(1).show()\n",
    "\n",
    "matches.groupBy(\"umpire1\",\"umpire2\").agg(count(\"match_id\").alias(\"Total_Matches\")).orderBy(col(\"Total_Matches\").desc()).limit(1).show()\n"
   ]
  },
  {
   "cell_type": "code",
   "execution_count": 16,
   "id": "24644df6-667a-432a-abea-e6d55d3cade7",
   "metadata": {},
   "outputs": [
    {
     "name": "stdout",
     "output_type": "stream",
     "text": [
      "+--------------------+-------+--------+---------------------+\n",
      "|               venue|batsman|match_id|Total_Individual_runs|\n",
      "+--------------------+-------+--------+---------------------+\n",
      "|M.Chinnaswamy Sta...|V Kohli|  980999|                  113|\n",
      "+--------------------+-------+--------+---------------------+\n",
      "\n"
     ]
    }
   ],
   "source": [
    "#Find venue details of the match where V Kohli scored his highest individual runs in IPL.\n",
    "viru = venue.join(matches,\"venue_id\",\"inner\").join(ball_by_ball,\"match_id\",\"inner\")\n",
    "\n",
    "viru.groupBy(\"venue\",\"batsman\",\"match_id\").agg(sum(\"batsman_runs\").alias(\"Total_Individual_runs\")).filter(col(\"batsman\")==\"V Kohli\")\\\n",
    ".orderBy(col(\"Total_Individual_runs\").desc()).limit(1).show()"
   ]
  },
  {
   "cell_type": "code",
   "execution_count": 17,
   "id": "8bbfc2f6-c288-4a5a-b063-480fa759564c",
   "metadata": {},
   "outputs": [
    {
     "name": "stdout",
     "output_type": "stream",
     "text": [
      "['match_id', 'date', 'player_of_match', 'venue_id', 'neutral_venue', 'team1', 'team2', 'toss_winner', 'toss_decision', 'winner', 'result', 'result_margin', 'eliminator', 'method', 'umpire1', 'umpire2']\n",
      "+--------------------+--------------------+--------------------+--------------------------+--------------------------+\n",
      "|               team1|               team2|         toss_winner|count(winner_binary_team1)|count(winner_binary_team2)|\n",
      "+--------------------+--------------------+--------------------+--------------------------+--------------------------+\n",
      "|     Deccan Chargers| Chennai Super Kings|     Deccan Chargers|                         2|                         0|\n",
      "|     Deccan Chargers|     Kings XI Punjab|     Kings XI Punjab|                         4|                         4|\n",
      "|      Mumbai Indians|    Rajasthan Royals|      Mumbai Indians|                         6|                         0|\n",
      "|    Rajasthan Royals|      Delhi Capitals|      Delhi Capitals|                         1|                         1|\n",
      "|Kolkata Knight Ri...|Royal Challengers...|Kolkata Knight Ri...|                         7|                         0|\n",
      "|Rising Pune Super...|Kolkata Knight Ri...|Kolkata Knight Ri...|                         1|                         1|\n",
      "| Chennai Super Kings|      Mumbai Indians|      Mumbai Indians|                        10|                        10|\n",
      "| Chennai Super Kings|    Delhi Daredevils| Chennai Super Kings|                         6|                         0|\n",
      "| Chennai Super Kings|     Deccan Chargers| Chennai Super Kings|                         4|                         0|\n",
      "|      Delhi Capitals| Chennai Super Kings|      Delhi Capitals|                         1|                         0|\n",
      "|      Mumbai Indians|       Gujarat Lions|      Mumbai Indians|                         1|                         0|\n",
      "|     Deccan Chargers|    Rajasthan Royals|    Rajasthan Royals|                         4|                         4|\n",
      "|     Kings XI Punjab|     Deccan Chargers|     Deccan Chargers|                         2|                         2|\n",
      "|    Rajasthan Royals|Kolkata Knight Ri...|Kolkata Knight Ri...|                         6|                         6|\n",
      "|       Pune Warriors| Sunrisers Hyderabad|       Pune Warriors|                         1|                         0|\n",
      "|      Mumbai Indians|       Pune Warriors|      Mumbai Indians|                         2|                         0|\n",
      "| Sunrisers Hyderabad|    Rajasthan Royals| Sunrisers Hyderabad|                         3|                         0|\n",
      "| Sunrisers Hyderabad|      Mumbai Indians| Sunrisers Hyderabad|                         5|                         0|\n",
      "|     Kings XI Punjab|Kolkata Knight Ri...|     Kings XI Punjab|                         4|                         0|\n",
      "|    Delhi Daredevils| Chennai Super Kings|    Delhi Daredevils|                         3|                         0|\n",
      "+--------------------+--------------------+--------------------+--------------------------+--------------------------+\n",
      "only showing top 20 rows\n",
      "\n",
      "+--------------------+---------------+------------+\n",
      "|               team1|result_win_loss|Count_Result|\n",
      "+--------------------+---------------+------------+\n",
      "| Chennai Super Kings|           Lost|          40|\n",
      "| Chennai Super Kings|            Win|          54|\n",
      "|     Deccan Chargers|           Lost|          23|\n",
      "|     Deccan Chargers|            Win|          16|\n",
      "|      Delhi Capitals|            Win|           9|\n",
      "|      Delhi Capitals|           Lost|          10|\n",
      "|    Delhi Daredevils|           Lost|          41|\n",
      "|    Delhi Daredevils|            Win|          42|\n",
      "|       Gujarat Lions|           Lost|           6|\n",
      "|       Gujarat Lions|            Win|          10|\n",
      "|     Kings XI Punjab|            Win|          46|\n",
      "|     Kings XI Punjab|           Lost|          46|\n",
      "|Kochi Tuskers Kerala|            Win|           4|\n",
      "|Kochi Tuskers Kerala|           Lost|           3|\n",
      "|Kolkata Knight Ri...|           Lost|          42|\n",
      "|Kolkata Knight Ri...|            Win|          53|\n",
      "|      Mumbai Indians|           Lost|          48|\n",
      "|      Mumbai Indians|            Win|          49|\n",
      "|       Pune Warriors|            Win|          11|\n",
      "|       Pune Warriors|           Lost|          12|\n",
      "|    Rajasthan Royals|            Win|          35|\n",
      "|    Rajasthan Royals|           Lost|          35|\n",
      "|Rising Pune Super...|           Lost|           2|\n",
      "|Rising Pune Super...|            Win|           5|\n",
      "|Rising Pune Super...|           Lost|           2|\n",
      "|Rising Pune Super...|            Win|           5|\n",
      "|Royal Challengers...|            Win|          58|\n",
      "|Royal Challengers...|           Lost|          50|\n",
      "| Sunrisers Hyderabad|            Win|          21|\n",
      "| Sunrisers Hyderabad|           Lost|          38|\n",
      "+--------------------+---------------+------------+\n",
      "\n"
     ]
    }
   ],
   "source": [
    "#How winning/ loosing tosses can impact a match and its result\n",
    "print(matches.columns)\n",
    "\n",
    "####### WRONG  ######\n",
    "df = matches.withColumn(\"winner_binary_team1\",when(col(\"toss_winner\")==col(\"team1\"),1).otherwise(0))\\\n",
    "            .withColumn(\"winner_binary_team2\",when(col(\"winner_binary_team1\")==0,1))\n",
    "\n",
    "df.groupBy(\"team1\",\"team2\",\"toss_winner\").agg(count(\"winner_binary_team1\"),count(\"winner_binary_team2\")).show()\n",
    "\n",
    "#######    RIGHT  #############\n",
    "\n",
    "df2 = matches.withColumn(\"result_win_loss\",when(col(\"toss_winner\")==col(\"winner\"),\"Win\").otherwise(\"Lost\"))\n",
    "df2.groupBy(\"team1\",\"result_win_loss\").agg(count(\"result_win_loss\").alias(\"Count_Result\")).orderBy(\"team1\").show(100)\n"
   ]
  },
  {
   "cell_type": "code",
   "execution_count": 18,
   "id": "fac97b45-ae47-406c-9a4b-7a8063727e2f",
   "metadata": {
    "scrolled": true
   },
   "outputs": [
    {
     "name": "stdout",
     "output_type": "stream",
     "text": [
      "+--------------+---------+------------+------------+\n",
      "|       batsman|Total_run|Total_wicket|Average_runs|\n",
      "+--------------+---------+------------+------------+\n",
      "|       V Kohli|     5878|         163|        36.0|\n",
      "|      SK Raina|     5368|         160|        34.0|\n",
      "|     DA Warner|     5254|         126|        42.0|\n",
      "|     RG Sharma|     5230|         177|        30.0|\n",
      "|      S Dhawan|     5197|         152|        34.0|\n",
      "|AB de Villiers|     4849|         114|        43.0|\n",
      "|      CH Gayle|     4772|         116|        41.0|\n",
      "|      MS Dhoni|     4632|         126|        37.0|\n",
      "|    RV Uthappa|     4607|         169|        27.0|\n",
      "|     G Gambhir|     4217|         135|        31.0|\n",
      "|     AM Rahane|     3933|         125|        31.0|\n",
      "|     SR Watson|     3874|         125|        31.0|\n",
      "|    KD Karthik|     3823|         152|        25.0|\n",
      "|     AT Rayudu|     3659|         123|        30.0|\n",
      "|     MK Pandey|     3268|         109|        30.0|\n",
      "|     YK Pathan|     3204|         111|        29.0|\n",
      "|    KA Pollard|     3023|         106|        29.0|\n",
      "|   BB McCullum|     2880|         106|        27.0|\n",
      "|      PA Patel|     2848|         127|        22.0|\n",
      "|  Yuvraj Singh|     2750|         109|        25.0|\n",
      "+--------------+---------+------------+------------+\n",
      "only showing top 20 rows\n",
      "\n",
      "+---------------+---------+---------+---------------+\n",
      "|        batsman|Total_run|Total_Out|Batting_Average|\n",
      "+---------------+---------+---------+---------------+\n",
      "|   SR Tendulkar|        9|       71|           0.13|\n",
      "|      RG Sharma|        7|      177|           0.04|\n",
      "|     KD Karthik|        7|      152|           0.05|\n",
      "|       MS Dhoni|        6|      126|           0.05|\n",
      "|      SR Watson|        6|      125|           0.05|\n",
      "|        V Kohli|        6|      163|           0.04|\n",
      "|         N Rana|        5|       53|           0.09|\n",
      "|Harbhajan Singh|        5|       56|           0.09|\n",
      "|      IK Pathan|        5|       53|           0.09|\n",
      "|      SPD Smith|        5|       72|           0.07|\n",
      "+---------------+---------+---------+---------------+\n",
      "\n"
     ]
    }
   ],
   "source": [
    "#Write a query to get a list of top 10 players with the highest batting average Note:\n",
    "#Batting average is the total number of runs scored divided by the number of times they have been out \n",
    "#(Make sure to include run outs (on non-striker end) as valid out while calculating average).\n",
    "\n",
    "\n",
    "ball_by_ball.groupBy(\"batsman\").agg(round(sum(\"batsman_runs\")).alias(\"Total_run\"),sum(\"is_wicket\").alias(\"Total_wicket\")).orderBy(col(\"Total_run\").desc())\\\n",
    "                .withColumn(\"Average_runs\",round(col(\"Total_run\")/col(\"Total_wicket\"))).show()\n",
    "\n",
    "\n",
    "df = ball_by_ball.filter(col(\"dismissal_kind\")!=\"NA\")\\\n",
    "                        .groupBy(\"batsman\").agg(round(sum(\"batsman_runs\")).alias(\"Total_run\"),\\\n",
    "                           count(\"dismissal_kind\").alias(\"Total_Out\"))\n",
    "\n",
    "\n",
    "df.withColumn(\"Batting_Average\",round(col(\"Total_run\")/col(\"Total_Out\"),2)).orderBy(col(\"Total_run\").desc()).limit(10).show()\n"
   ]
  },
  {
   "cell_type": "code",
   "execution_count": null,
   "id": "fa4c8667-fd20-4c18-80ac-a87a108b3bc6",
   "metadata": {},
   "outputs": [],
   "source": []
  },
  {
   "cell_type": "code",
   "execution_count": null,
   "id": "57e8dd55-dda6-455d-9972-dcce83f0d5dd",
   "metadata": {
    "scrolled": true
   },
   "outputs": [],
   "source": []
  },
  {
   "cell_type": "code",
   "execution_count": null,
   "id": "592aebbd-0fac-4324-9cad-50065f3e358d",
   "metadata": {},
   "outputs": [],
   "source": []
  },
  {
   "cell_type": "code",
   "execution_count": null,
   "id": "88dc23d8-ed70-432d-8f4c-6406b324b9cd",
   "metadata": {},
   "outputs": [],
   "source": []
  },
  {
   "cell_type": "code",
   "execution_count": null,
   "id": "16d82f78-f1d2-4e40-a24d-212c31a777a1",
   "metadata": {},
   "outputs": [],
   "source": []
  },
  {
   "cell_type": "code",
   "execution_count": null,
   "id": "8da0f42c-c22b-4714-be18-873fb455b326",
   "metadata": {},
   "outputs": [],
   "source": []
  },
  {
   "cell_type": "code",
   "execution_count": null,
   "id": "be45daab-c383-41df-afef-4504b1c11d88",
   "metadata": {},
   "outputs": [],
   "source": []
  },
  {
   "cell_type": "code",
   "execution_count": 19,
   "id": "8bcfc560-2265-4b96-89b0-7a36aa5acb4c",
   "metadata": {},
   "outputs": [
    {
     "name": "stdout",
     "output_type": "stream",
     "text": [
      "root\n",
      " |-- match_id: integer (nullable = true)\n",
      " |-- date: date (nullable = true)\n",
      " |-- player_of_match: string (nullable = true)\n",
      " |-- venue_id: integer (nullable = true)\n",
      " |-- neutral_venue: integer (nullable = true)\n",
      " |-- team1: string (nullable = true)\n",
      " |-- team2: string (nullable = true)\n",
      " |-- toss_winner: string (nullable = true)\n",
      " |-- toss_decision: string (nullable = true)\n",
      " |-- winner: string (nullable = true)\n",
      " |-- result: string (nullable = true)\n",
      " |-- result_margin: string (nullable = true)\n",
      " |-- eliminator: string (nullable = true)\n",
      " |-- method: string (nullable = true)\n",
      " |-- umpire1: string (nullable = true)\n",
      " |-- umpire2: string (nullable = true)\n",
      "\n"
     ]
    }
   ],
   "source": [
    "matches.printSchema()"
   ]
  },
  {
   "cell_type": "code",
   "execution_count": 20,
   "id": "644258a7-1693-46dc-bdb8-d2c51d3c84d5",
   "metadata": {},
   "outputs": [
    {
     "name": "stdout",
     "output_type": "stream",
     "text": [
      "root\n",
      " |-- venue_id: integer (nullable = true)\n",
      " |-- venue: string (nullable = true)\n",
      " |-- city: string (nullable = true)\n",
      "\n"
     ]
    }
   ],
   "source": [
    "venue.printSchema()"
   ]
  },
  {
   "cell_type": "code",
   "execution_count": 21,
   "id": "4729203a-aa87-428f-9b81-32417393c5f7",
   "metadata": {},
   "outputs": [
    {
     "name": "stdout",
     "output_type": "stream",
     "text": [
      "root\n",
      " |-- match_id: integer (nullable = true)\n",
      " |-- inning: integer (nullable = true)\n",
      " |-- overs: integer (nullable = true)\n",
      " |-- ball: integer (nullable = true)\n",
      " |-- batsman: string (nullable = true)\n",
      " |-- non_striker: string (nullable = true)\n",
      " |-- bowler: string (nullable = true)\n",
      " |-- batsman_runs: integer (nullable = true)\n",
      " |-- extra_runs: integer (nullable = true)\n",
      " |-- total_runs: integer (nullable = true)\n",
      " |-- non_boundary: integer (nullable = true)\n",
      " |-- is_wicket: integer (nullable = true)\n",
      " |-- dismissal_kind: string (nullable = true)\n",
      " |-- player_dismissed: string (nullable = true)\n",
      " |-- fielder: string (nullable = true)\n",
      " |-- extras_type: string (nullable = true)\n",
      " |-- batting_team: string (nullable = true)\n",
      " |-- bowling_team: string (nullable = true)\n",
      "\n"
     ]
    }
   ],
   "source": [
    "ball_by_ball.printSchema()"
   ]
  },
  {
   "cell_type": "code",
   "execution_count": 22,
   "id": "61511236-33cb-4391-8e14-b0d7438f383d",
   "metadata": {},
   "outputs": [
    {
     "name": "stdout",
     "output_type": "stream",
     "text": [
      "+--------+------+-----+----+-------------+-------------+---------------+------------+----------+----------+------------+---------+--------------+----------------+-------+-----------+--------------------+--------------------+\n",
      "|match_id|inning|overs|ball|      batsman|  non_striker|         bowler|batsman_runs|extra_runs|total_runs|non_boundary|is_wicket|dismissal_kind|player_dismissed|fielder|extras_type|        batting_team|        bowling_team|\n",
      "+--------+------+-----+----+-------------+-------------+---------------+------------+----------+----------+------------+---------+--------------+----------------+-------+-----------+--------------------+--------------------+\n",
      "|  419157|     2|   16|   4|      V Kohli|R Vinay Kumar|   CRD Fernando|           0|         0|         0|           0|        0|            NA|              NA|     NA|         NA|Royal Challengers...|      Mumbai Indians|\n",
      "|  419157|     2|   16|   5|      V Kohli|R Vinay Kumar|   CRD Fernando|           1|         0|         1|           0|        0|            NA|              NA|     NA|         NA|Royal Challengers...|      Mumbai Indians|\n",
      "|  419157|     2|   16|   6|R Vinay Kumar|      V Kohli|   CRD Fernando|           1|         0|         1|           0|        0|            NA|              NA|     NA|         NA|Royal Challengers...|      Mumbai Indians|\n",
      "|  419157|     2|   17|   1|R Vinay Kumar|      V Kohli|      R McLaren|           1|         0|         1|           0|        0|            NA|              NA|     NA|         NA|Royal Challengers...|      Mumbai Indians|\n",
      "|  419157|     2|   17|   2|      V Kohli|R Vinay Kumar|      R McLaren|           1|         0|         1|           0|        0|            NA|              NA|     NA|         NA|Royal Challengers...|      Mumbai Indians|\n",
      "|  419157|     2|   17|   3|R Vinay Kumar|      V Kohli|      R McLaren|           0|         0|         0|           0|        0|            NA|              NA|     NA|         NA|Royal Challengers...|      Mumbai Indians|\n",
      "|  419157|     2|   17|   4|R Vinay Kumar|      V Kohli|      R McLaren|           0|         0|         0|           0|        0|            NA|              NA|     NA|         NA|Royal Challengers...|      Mumbai Indians|\n",
      "|  419157|     2|   17|   5|R Vinay Kumar|      V Kohli|      R McLaren|           1|         0|         1|           0|        0|            NA|              NA|     NA|         NA|Royal Challengers...|      Mumbai Indians|\n",
      "|  419157|     2|   17|   6|      V Kohli|R Vinay Kumar|      R McLaren|           1|         0|         1|           0|        0|            NA|              NA|     NA|         NA|Royal Challengers...|      Mumbai Indians|\n",
      "|  419157|     2|   18|   1|      V Kohli|R Vinay Kumar|     KA Pollard|           4|         0|         4|           0|        0|            NA|              NA|     NA|         NA|Royal Challengers...|      Mumbai Indians|\n",
      "|  419157|     2|   18|   2|      V Kohli|R Vinay Kumar|     KA Pollard|           0|         0|         0|           0|        1|        caught|         V Kohli|AP Tare|         NA|Royal Challengers...|      Mumbai Indians|\n",
      "|  419157|     2|   18|   3|R Vinay Kumar| Pankaj Singh|     KA Pollard|           0|         1|         1|           0|        0|            NA|              NA|     NA|      wides|Royal Challengers...|      Mumbai Indians|\n",
      "|  419157|     2|   18|   4|R Vinay Kumar| Pankaj Singh|     KA Pollard|           1|         0|         1|           0|        0|            NA|              NA|     NA|         NA|Royal Challengers...|      Mumbai Indians|\n",
      "|  419157|     2|   18|   5| Pankaj Singh|R Vinay Kumar|     KA Pollard|           1|         0|         1|           0|        0|            NA|              NA|     NA|         NA|Royal Challengers...|      Mumbai Indians|\n",
      "|  419157|     2|   18|   6|R Vinay Kumar| Pankaj Singh|     KA Pollard|           1|         0|         1|           0|        0|            NA|              NA|     NA|         NA|Royal Challengers...|      Mumbai Indians|\n",
      "|  419157|     2|   18|   7| Pankaj Singh|R Vinay Kumar|     KA Pollard|           0|         0|         0|           0|        1|        caught|    Pankaj Singh| Z Khan|         NA|Royal Challengers...|      Mumbai Indians|\n",
      "|  419157|     2|   19|   1|     A Kumble|R Vinay Kumar|      R McLaren|           0|         0|         0|           0|        0|            NA|              NA|     NA|         NA|Royal Challengers...|      Mumbai Indians|\n",
      "|  419157|     1|    0|   1|    R McLaren| SR Tendulkar|       DW Steyn|           1|         0|         1|           0|        0|            NA|              NA|     NA|         NA|      Mumbai Indians|Royal Challengers...|\n",
      "|  419157|     1|    0|   2| SR Tendulkar|    R McLaren|       DW Steyn|           0|         0|         0|           0|        0|            NA|              NA|     NA|         NA|      Mumbai Indians|Royal Challengers...|\n",
      "|  419157|     1|    0|   3| SR Tendulkar|    R McLaren|       DW Steyn|           1|         0|         1|           0|        0|            NA|              NA|     NA|         NA|      Mumbai Indians|Royal Challengers...|\n",
      "|  419157|     1|    0|   4|    R McLaren| SR Tendulkar|       DW Steyn|           1|         0|         1|           0|        0|            NA|              NA|     NA|         NA|      Mumbai Indians|Royal Challengers...|\n",
      "|  419157|     1|    0|   5| SR Tendulkar|    R McLaren|       DW Steyn|           1|         0|         1|           0|        0|            NA|              NA|     NA|         NA|      Mumbai Indians|Royal Challengers...|\n",
      "|  419157|     2|    0|   1|    MK Pandey|    JH Kallis|         Z Khan|           0|         0|         0|           0|        0|            NA|              NA|     NA|         NA|Royal Challengers...|      Mumbai Indians|\n",
      "|  419157|     2|    0|   2|    MK Pandey|    JH Kallis|         Z Khan|           0|         0|         0|           0|        0|            NA|              NA|     NA|         NA|Royal Challengers...|      Mumbai Indians|\n",
      "|  419157|     2|    0|   3|    MK Pandey|    JH Kallis|         Z Khan|           2|         0|         2|           0|        0|            NA|              NA|     NA|         NA|Royal Challengers...|      Mumbai Indians|\n",
      "|  419157|     2|    0|   4|    MK Pandey|    JH Kallis|         Z Khan|           0|         0|         0|           0|        0|            NA|              NA|     NA|         NA|Royal Challengers...|      Mumbai Indians|\n",
      "|  419157|     2|    0|   5|    MK Pandey|    JH Kallis|         Z Khan|           1|         0|         1|           0|        0|            NA|              NA|     NA|         NA|Royal Challengers...|      Mumbai Indians|\n",
      "|  419157|     2|    0|   6|    JH Kallis|    MK Pandey|         Z Khan|           1|         0|         1|           0|        0|            NA|              NA|     NA|         NA|Royal Challengers...|      Mumbai Indians|\n",
      "|  419157|     2|    1|   1|    JH Kallis|    MK Pandey|   CRD Fernando|           0|         0|         0|           0|        0|            NA|              NA|     NA|         NA|Royal Challengers...|      Mumbai Indians|\n",
      "|  419157|     2|    1|   2|    JH Kallis|    MK Pandey|   CRD Fernando|           0|         0|         0|           0|        0|            NA|              NA|     NA|         NA|Royal Challengers...|      Mumbai Indians|\n",
      "|  419157|     2|    1|   3|    JH Kallis|    MK Pandey|   CRD Fernando|           1|         0|         1|           0|        0|            NA|              NA|     NA|         NA|Royal Challengers...|      Mumbai Indians|\n",
      "|  419157|     2|    1|   4|    MK Pandey|    JH Kallis|   CRD Fernando|           0|         0|         0|           0|        0|            NA|              NA|     NA|         NA|Royal Challengers...|      Mumbai Indians|\n",
      "|  419157|     2|    1|   5|    MK Pandey|    JH Kallis|   CRD Fernando|           0|         0|         0|           0|        0|            NA|              NA|     NA|         NA|Royal Challengers...|      Mumbai Indians|\n",
      "|  419157|     2|    1|   6|    MK Pandey|    JH Kallis|   CRD Fernando|           0|         0|         0|           0|        0|            NA|              NA|     NA|         NA|Royal Challengers...|      Mumbai Indians|\n",
      "|  419157|     2|    2|   1|    JH Kallis|    MK Pandey|      R McLaren|           2|         0|         2|           0|        0|            NA|              NA|     NA|         NA|Royal Challengers...|      Mumbai Indians|\n",
      "|  419157|     2|    2|   2|    JH Kallis|    MK Pandey|      R McLaren|           1|         0|         1|           0|        0|            NA|              NA|     NA|         NA|Royal Challengers...|      Mumbai Indians|\n",
      "|  419157|     2|    2|   3|    MK Pandey|    JH Kallis|      R McLaren|           2|         0|         2|           0|        0|            NA|              NA|     NA|         NA|Royal Challengers...|      Mumbai Indians|\n",
      "|  419157|     2|    2|   4|    MK Pandey|    JH Kallis|      R McLaren|           0|         0|         0|           0|        0|            NA|              NA|     NA|         NA|Royal Challengers...|      Mumbai Indians|\n",
      "|  419157|     2|    2|   5|    MK Pandey|    JH Kallis|      R McLaren|           1|         0|         1|           0|        0|            NA|              NA|     NA|         NA|Royal Challengers...|      Mumbai Indians|\n",
      "|  419157|     2|    2|   6|    JH Kallis|    MK Pandey|      R McLaren|           1|         0|         1|           0|        0|            NA|              NA|     NA|         NA|Royal Challengers...|      Mumbai Indians|\n",
      "|  419157|     2|    3|   1|    JH Kallis|    MK Pandey|         Z Khan|           0|         0|         0|           0|        0|            NA|              NA|     NA|         NA|Royal Challengers...|      Mumbai Indians|\n",
      "|  419157|     2|    3|   2|    JH Kallis|    MK Pandey|         Z Khan|           1|         0|         1|           0|        0|            NA|              NA|     NA|         NA|Royal Challengers...|      Mumbai Indians|\n",
      "|  419157|     2|    3|   3|    MK Pandey|    JH Kallis|         Z Khan|           1|         0|         1|           0|        0|            NA|              NA|     NA|         NA|Royal Challengers...|      Mumbai Indians|\n",
      "|  419157|     2|    3|   4|    JH Kallis|    MK Pandey|         Z Khan|           6|         0|         6|           0|        0|            NA|              NA|     NA|         NA|Royal Challengers...|      Mumbai Indians|\n",
      "|  419157|     2|    3|   5|    JH Kallis|    MK Pandey|         Z Khan|           1|         0|         1|           0|        0|            NA|              NA|     NA|         NA|Royal Challengers...|      Mumbai Indians|\n",
      "|  419157|     2|    3|   6|    MK Pandey|    JH Kallis|         Z Khan|           1|         0|         1|           0|        0|            NA|              NA|     NA|         NA|Royal Challengers...|      Mumbai Indians|\n",
      "|  419157|     2|    4|   1|    MK Pandey|    JH Kallis|   CRD Fernando|           4|         0|         4|           0|        0|            NA|              NA|     NA|         NA|Royal Challengers...|      Mumbai Indians|\n",
      "|  419157|     2|    4|   2|    MK Pandey|    JH Kallis|   CRD Fernando|           0|         0|         0|           0|        0|            NA|              NA|     NA|         NA|Royal Challengers...|      Mumbai Indians|\n",
      "|  419157|     2|    4|   3|    MK Pandey|    JH Kallis|   CRD Fernando|           0|         0|         0|           0|        0|            NA|              NA|     NA|         NA|Royal Challengers...|      Mumbai Indians|\n",
      "|  419157|     2|    4|   4|    MK Pandey|    JH Kallis|   CRD Fernando|           4|         0|         4|           0|        0|            NA|              NA|     NA|         NA|Royal Challengers...|      Mumbai Indians|\n",
      "|  419157|     2|    4|   5|    MK Pandey|    JH Kallis|   CRD Fernando|           0|         0|         0|           0|        1|        caught|       MK Pandey| Z Khan|         NA|Royal Challengers...|      Mumbai Indians|\n",
      "|  419157|     2|    4|   6|    JH Kallis| KP Pietersen|   CRD Fernando|           0|         0|         0|           0|        0|            NA|              NA|     NA|         NA|Royal Challengers...|      Mumbai Indians|\n",
      "|  419157|     2|    5|   1| KP Pietersen|    JH Kallis|      R McLaren|           1|         0|         1|           0|        0|            NA|              NA|     NA|         NA|Royal Challengers...|      Mumbai Indians|\n",
      "|  419157|     2|    5|   2|    JH Kallis| KP Pietersen|      R McLaren|           0|         0|         0|           0|        0|            NA|              NA|     NA|         NA|Royal Challengers...|      Mumbai Indians|\n",
      "|  419157|     2|    5|   3|    JH Kallis| KP Pietersen|      R McLaren|           0|         0|         0|           0|        0|            NA|              NA|     NA|         NA|Royal Challengers...|      Mumbai Indians|\n",
      "|  419157|     2|    5|   4|    JH Kallis| KP Pietersen|      R McLaren|           0|         0|         0|           0|        1|        bowled|       JH Kallis|     NA|         NA|Royal Challengers...|      Mumbai Indians|\n",
      "|  419157|     2|    5|   5|     R Dravid| KP Pietersen|      R McLaren|           1|         0|         1|           0|        0|            NA|              NA|     NA|         NA|Royal Challengers...|      Mumbai Indians|\n",
      "|  336007|     1|    9|   2|     MS Dhoni|     SK Raina|      SB Bangar|           0|         0|         0|           0|        0|            NA|              NA|     NA|         NA| Chennai Super Kings|     Deccan Chargers|\n",
      "|  419157|     2|    5|   6| KP Pietersen|     R Dravid|      R McLaren|           2|         0|         2|           0|        0|            NA|              NA|     NA|         NA|Royal Challengers...|      Mumbai Indians|\n",
      "|  336007|     1|    9|   3|     MS Dhoni|     SK Raina|      SB Bangar|           2|         0|         2|           0|        0|            NA|              NA|     NA|         NA| Chennai Super Kings|     Deccan Chargers|\n",
      "|  419157|     2|    6|   1|     R Dravid| KP Pietersen|Harbhajan Singh|           1|         0|         1|           0|        0|            NA|              NA|     NA|         NA|Royal Challengers...|      Mumbai Indians|\n",
      "|  336007|     1|    9|   4|     MS Dhoni|     SK Raina|      SB Bangar|           2|         0|         2|           0|        0|            NA|              NA|     NA|         NA| Chennai Super Kings|     Deccan Chargers|\n",
      "|  419157|     2|    6|   2| KP Pietersen|     R Dravid|Harbhajan Singh|           0|         0|         0|           0|        0|            NA|              NA|     NA|         NA|Royal Challengers...|      Mumbai Indians|\n",
      "|  336007|     1|    9|   5|     MS Dhoni|     SK Raina|      SB Bangar|           0|         0|         0|           0|        0|            NA|              NA|     NA|         NA| Chennai Super Kings|     Deccan Chargers|\n",
      "|  419157|     2|    6|   3| KP Pietersen|     R Dravid|Harbhajan Singh|           0|         0|         0|           0|        0|            NA|              NA|     NA|         NA|Royal Challengers...|      Mumbai Indians|\n",
      "|  336007|     1|    9|   6|     MS Dhoni|     SK Raina|      SB Bangar|           2|         0|         2|           0|        0|            NA|              NA|     NA|         NA| Chennai Super Kings|     Deccan Chargers|\n",
      "|  419157|     2|    6|   4| KP Pietersen|     R Dravid|Harbhajan Singh|           1|         0|         1|           0|        0|            NA|              NA|     NA|         NA|Royal Challengers...|      Mumbai Indians|\n",
      "| 1216504|     1|   19|   6|   EJG Morgan| KL Nagarkoti|      TK Curran|           0|         1|         1|           0|        0|            NA|              NA|     NA|      wides|Kolkata Knight Ri...|    Rajasthan Royals|\n",
      "| 1216505|     1|    6|   6|      V Kohli|   D Padikkal|       R Ashwin|           0|         0|         0|           0|        0|            NA|              NA|     NA|         NA|Royal Challengers...|      Delhi Capitals|\n",
      "| 1216505|     1|    7|   1|   D Padikkal|      V Kohli|       AR Patel|           1|         0|         1|           0|        0|            NA|              NA|     NA|         NA|Royal Challengers...|      Delhi Capitals|\n",
      "| 1216505|     1|    6|   5|   D Padikkal|      V Kohli|       R Ashwin|           1|         0|         1|           0|        0|            NA|              NA|     NA|         NA|Royal Challengers...|      Delhi Capitals|\n",
      "| 1216505|     1|    7|   4|      V Kohli|   D Padikkal|       AR Patel|           1|         0|         1|           0|        0|            NA|              NA|     NA|         NA|Royal Challengers...|      Delhi Capitals|\n",
      "| 1216505|     1|    7|   5|   D Padikkal|      V Kohli|       AR Patel|           1|         0|         1|           0|        0|            NA|              NA|     NA|         NA|Royal Challengers...|      Delhi Capitals|\n",
      "| 1216505|     1|    7|   2|      V Kohli|   D Padikkal|       AR Patel|           1|         0|         1|           0|        0|            NA|              NA|     NA|         NA|Royal Challengers...|      Delhi Capitals|\n",
      "| 1216505|     1|    7|   3|   D Padikkal|      V Kohli|       AR Patel|           1|         0|         1|           0|        0|            NA|              NA|     NA|         NA|Royal Challengers...|      Delhi Capitals|\n",
      "| 1216505|     1|    8|   6|   D Padikkal|      V Kohli|       R Ashwin|           1|         0|         1|           0|        0|            NA|              NA|     NA|         NA|Royal Challengers...|      Delhi Capitals|\n",
      "| 1216505|     1|    9|   1|   D Padikkal|      V Kohli|       AR Patel|           1|         0|         1|           0|        0|            NA|              NA|     NA|         NA|Royal Challengers...|      Delhi Capitals|\n",
      "| 1216505|     1|    9|   2|      V Kohli|   D Padikkal|       AR Patel|           0|         0|         0|           0|        0|            NA|              NA|     NA|         NA|Royal Challengers...|      Delhi Capitals|\n",
      "| 1216505|     1|    9|   3|      V Kohli|   D Padikkal|       AR Patel|           1|         0|         1|           0|        0|            NA|              NA|     NA|         NA|Royal Challengers...|      Delhi Capitals|\n",
      "| 1216505|     1|    9|   4|   D Padikkal|      V Kohli|       AR Patel|           1|         0|         1|           0|        0|            NA|              NA|     NA|         NA|Royal Challengers...|      Delhi Capitals|\n",
      "| 1216505|     1|    9|   5|      V Kohli|   D Padikkal|       AR Patel|           1|         0|         1|           0|        0|            NA|              NA|     NA|         NA|Royal Challengers...|      Delhi Capitals|\n",
      "| 1216505|     1|    9|   6|   D Padikkal|      V Kohli|       AR Patel|           0|         0|         0|           0|        0|            NA|              NA|     NA|         NA|Royal Challengers...|      Delhi Capitals|\n",
      "| 1216505|     1|    7|   6|      V Kohli|   D Padikkal|       AR Patel|           1|         0|         1|           0|        0|            NA|              NA|     NA|         NA|Royal Challengers...|      Delhi Capitals|\n",
      "| 1216505|     1|    8|   1|      V Kohli|   D Padikkal|       R Ashwin|           1|         0|         1|           0|        0|            NA|              NA|     NA|         NA|Royal Challengers...|      Delhi Capitals|\n",
      "| 1216505|     1|    8|   2|   D Padikkal|      V Kohli|       R Ashwin|           0|         0|         0|           0|        0|            NA|              NA|     NA|         NA|Royal Challengers...|      Delhi Capitals|\n",
      "| 1216505|     1|    8|   3|   D Padikkal|      V Kohli|       R Ashwin|           1|         0|         1|           0|        0|            NA|              NA|     NA|         NA|Royal Challengers...|      Delhi Capitals|\n",
      "| 1216505|     1|    8|   4|      V Kohli|   D Padikkal|       R Ashwin|           0|         0|         0|           0|        0|            NA|              NA|     NA|         NA|Royal Challengers...|      Delhi Capitals|\n",
      "| 1216505|     1|    8|   5|      V Kohli|   D Padikkal|       R Ashwin|           1|         0|         1|           0|        0|            NA|              NA|     NA|         NA|Royal Challengers...|      Delhi Capitals|\n",
      "| 1216505|     1|   11|   1|   D Padikkal|      V Kohli|       AR Patel|           0|         0|         0|           0|        0|            NA|              NA|     NA|         NA|Royal Challengers...|      Delhi Capitals|\n",
      "| 1216505|     1|   11|   2|   D Padikkal|      V Kohli|       AR Patel|           3|         0|         3|           0|        0|            NA|              NA|     NA|         NA|Royal Challengers...|      Delhi Capitals|\n",
      "| 1216505|     1|   11|   3|      V Kohli|   D Padikkal|       AR Patel|           1|         0|         1|           0|        0|            NA|              NA|     NA|         NA|Royal Challengers...|      Delhi Capitals|\n",
      "| 1216505|     1|   11|   4|   D Padikkal|      V Kohli|       AR Patel|           1|         0|         1|           0|        0|            NA|              NA|     NA|         NA|Royal Challengers...|      Delhi Capitals|\n",
      "| 1216505|     1|   11|   5|      V Kohli|   D Padikkal|       AR Patel|           6|         0|         6|           0|        0|            NA|              NA|     NA|         NA|Royal Challengers...|      Delhi Capitals|\n",
      "| 1216505|     1|   11|   6|      V Kohli|   D Padikkal|       AR Patel|           2|         0|         2|           0|        0|            NA|              NA|     NA|         NA|Royal Challengers...|      Delhi Capitals|\n",
      "| 1216505|     1|   12|   1|   D Padikkal|      V Kohli|       R Ashwin|           0|         0|         0|           0|        0|            NA|              NA|     NA|         NA|Royal Challengers...|      Delhi Capitals|\n",
      "| 1216505|     1|   10|   1|      V Kohli|   D Padikkal|       K Rabada|           0|         0|         0|           0|        0|            NA|              NA|     NA|         NA|Royal Challengers...|      Delhi Capitals|\n",
      "| 1216505|     1|   10|   2|      V Kohli|   D Padikkal|       K Rabada|           4|         0|         4|           0|        0|            NA|              NA|     NA|         NA|Royal Challengers...|      Delhi Capitals|\n",
      "| 1216505|     1|   10|   3|      V Kohli|   D Padikkal|       K Rabada|           1|         0|         1|           0|        0|            NA|              NA|     NA|         NA|Royal Challengers...|      Delhi Capitals|\n",
      "| 1216505|     1|   10|   4|   D Padikkal|      V Kohli|       K Rabada|           1|         0|         1|           0|        0|            NA|              NA|     NA|         NA|Royal Challengers...|      Delhi Capitals|\n",
      "| 1216505|     1|   10|   5|      V Kohli|   D Padikkal|       K Rabada|           1|         0|         1|           0|        0|            NA|              NA|     NA|         NA|Royal Challengers...|      Delhi Capitals|\n",
      "+--------+------+-----+----+-------------+-------------+---------------+------------+----------+----------+------------+---------+--------------+----------------+-------+-----------+--------------------+--------------------+\n",
      "only showing top 100 rows\n",
      "\n"
     ]
    }
   ],
   "source": [
    "ball_by_ball.show(100)"
   ]
  },
  {
   "cell_type": "code",
   "execution_count": null,
   "id": "13e56c81-0699-42e3-a6bc-35a581601243",
   "metadata": {},
   "outputs": [],
   "source": []
  }
 ],
 "metadata": {
  "kernelspec": {
   "display_name": "PYSPARK_KERNEL",
   "language": "python",
   "name": "pyspark_kernel"
  },
  "language_info": {
   "codemirror_mode": {
    "name": "ipython",
    "version": 3
   },
   "file_extension": ".py",
   "mimetype": "text/x-python",
   "name": "python",
   "nbconvert_exporter": "python",
   "pygments_lexer": "ipython3",
   "version": "3.12.7"
  }
 },
 "nbformat": 4,
 "nbformat_minor": 5
}
